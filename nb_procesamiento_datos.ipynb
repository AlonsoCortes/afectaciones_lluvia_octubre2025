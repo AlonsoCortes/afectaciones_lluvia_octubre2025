{
 "cells": [
  {
   "cell_type": "code",
   "execution_count": 5,
   "id": "4ac31e9e",
   "metadata": {},
   "outputs": [],
   "source": [
    "import pandas as pd\n",
    "import geopandas as gpd"
   ]
  },
  {
   "cell_type": "code",
   "execution_count": 6,
   "id": "727fd4ca",
   "metadata": {},
   "outputs": [
    {
     "data": {
      "text/html": [
       "<div>\n",
       "<style scoped>\n",
       "    .dataframe tbody tr th:only-of-type {\n",
       "        vertical-align: middle;\n",
       "    }\n",
       "\n",
       "    .dataframe tbody tr th {\n",
       "        vertical-align: top;\n",
       "    }\n",
       "\n",
       "    .dataframe thead th {\n",
       "        text-align: right;\n",
       "    }\n",
       "</style>\n",
       "<table border=\"1\" class=\"dataframe\">\n",
       "  <thead>\n",
       "    <tr style=\"text-align: right;\">\n",
       "      <th></th>\n",
       "      <th>CVEGEO</th>\n",
       "      <th>NOM_ENT</th>\n",
       "      <th>NOMGEO</th>\n",
       "      <th>pobTotal2020</th>\n",
       "      <th>cve_cont</th>\n",
       "      <th>Estado</th>\n",
       "      <th>Municipio</th>\n",
       "      <th>Localidades afectadas</th>\n",
       "      <th>Localidades sin acceso</th>\n",
       "      <th>geometry</th>\n",
       "    </tr>\n",
       "  </thead>\n",
       "  <tbody>\n",
       "    <tr>\n",
       "      <th>0</th>\n",
       "      <td>13068</td>\n",
       "      <td>Hidalgo</td>\n",
       "      <td>Tianguistengo</td>\n",
       "      <td>14340.0</td>\n",
       "      <td>Hidalgo Tianguistengo</td>\n",
       "      <td>Hidalgo</td>\n",
       "      <td>Tianguistengo</td>\n",
       "      <td>30</td>\n",
       "      <td>14</td>\n",
       "      <td>MULTIPOLYGON (((-98.50451 20.88541, -98.50409 ...</td>\n",
       "    </tr>\n",
       "  </tbody>\n",
       "</table>\n",
       "</div>"
      ],
      "text/plain": [
       "  CVEGEO  NOM_ENT         NOMGEO  pobTotal2020               cve_cont  \\\n",
       "0  13068  Hidalgo  Tianguistengo       14340.0  Hidalgo Tianguistengo   \n",
       "\n",
       "    Estado      Municipio Localidades afectadas Localidades sin acceso  \\\n",
       "0  Hidalgo  Tianguistengo                    30                     14   \n",
       "\n",
       "                                            geometry  \n",
       "0  MULTIPOLYGON (((-98.50451 20.88541, -98.50409 ...  "
      ]
     },
     "execution_count": 6,
     "metadata": {},
     "output_type": "execute_result"
    }
   ],
   "source": [
    "gdf = gpd.read_file('datos/municipios_2020_INEGI.geojson')\n",
    "gdf.head(1)"
   ]
  },
  {
   "cell_type": "code",
   "execution_count": 10,
   "id": "e4500b80",
   "metadata": {},
   "outputs": [
    {
     "data": {
      "text/html": [
       "<div>\n",
       "<style scoped>\n",
       "    .dataframe tbody tr th:only-of-type {\n",
       "        vertical-align: middle;\n",
       "    }\n",
       "\n",
       "    .dataframe tbody tr th {\n",
       "        vertical-align: top;\n",
       "    }\n",
       "\n",
       "    .dataframe thead th {\n",
       "        text-align: right;\n",
       "    }\n",
       "</style>\n",
       "<table border=\"1\" class=\"dataframe\">\n",
       "  <thead>\n",
       "    <tr style=\"text-align: right;\">\n",
       "      <th></th>\n",
       "      <th>CVEGEO</th>\n",
       "      <th>NOM_ENT</th>\n",
       "      <th>NOMGEO</th>\n",
       "      <th>pobTotal2020</th>\n",
       "      <th>geometry</th>\n",
       "      <th>cve_cont</th>\n",
       "    </tr>\n",
       "  </thead>\n",
       "  <tbody>\n",
       "    <tr>\n",
       "      <th>0</th>\n",
       "      <td>13001</td>\n",
       "      <td>Hidalgo</td>\n",
       "      <td>Acatlán</td>\n",
       "      <td>22268.0</td>\n",
       "      <td>MULTIPOLYGON (((-98.46896 20.33477, -98.46877 ...</td>\n",
       "      <td>Hidalgo Acatlán</td>\n",
       "    </tr>\n",
       "  </tbody>\n",
       "</table>\n",
       "</div>"
      ],
      "text/plain": [
       "  CVEGEO  NOM_ENT   NOMGEO  pobTotal2020  \\\n",
       "0  13001  Hidalgo  Acatlán       22268.0   \n",
       "\n",
       "                                            geometry         cve_cont  \n",
       "0  MULTIPOLYGON (((-98.46896 20.33477, -98.46877 ...  Hidalgo Acatlán  "
      ]
     },
     "execution_count": 10,
     "metadata": {},
     "output_type": "execute_result"
    }
   ],
   "source": [
    "gdf['cve_cont'] = gdf['NOM_ENT'] + ' ' + gdf['NOMGEO']\n",
    "gdf.head(1)"
   ]
  },
  {
   "cell_type": "code",
   "execution_count": 30,
   "id": "aa18f450",
   "metadata": {},
   "outputs": [
    {
     "name": "stdout",
     "output_type": "stream",
     "text": [
      "(109, 4)\n"
     ]
    },
    {
     "data": {
      "text/html": [
       "<div>\n",
       "<style scoped>\n",
       "    .dataframe tbody tr th:only-of-type {\n",
       "        vertical-align: middle;\n",
       "    }\n",
       "\n",
       "    .dataframe tbody tr th {\n",
       "        vertical-align: top;\n",
       "    }\n",
       "\n",
       "    .dataframe thead th {\n",
       "        text-align: right;\n",
       "    }\n",
       "</style>\n",
       "<table border=\"1\" class=\"dataframe\">\n",
       "  <thead>\n",
       "    <tr style=\"text-align: right;\">\n",
       "      <th></th>\n",
       "      <th>Estado</th>\n",
       "      <th>Municipio</th>\n",
       "      <th>Localidades afectadas</th>\n",
       "      <th>Localidades sin acceso</th>\n",
       "    </tr>\n",
       "  </thead>\n",
       "  <tbody>\n",
       "    <tr>\n",
       "      <th>0</th>\n",
       "      <td>Hidalgo</td>\n",
       "      <td>Tianguistengo</td>\n",
       "      <td>30.0</td>\n",
       "      <td>14.0</td>\n",
       "    </tr>\n",
       "  </tbody>\n",
       "</table>\n",
       "</div>"
      ],
      "text/plain": [
       "    Estado      Municipio Localidades afectadas Localidades sin acceso\n",
       "0  Hidalgo  Tianguistengo                  30.0                   14.0"
      ]
     },
     "execution_count": 30,
     "metadata": {},
     "output_type": "execute_result"
    }
   ],
   "source": [
    "df = pd.read_excel('datos/captura_información_afectaciones_lluvia.xlsx', sheet_name='trabajo')\n",
    "print(df.shape)\n",
    "df.head(1)"
   ]
  },
  {
   "cell_type": "code",
   "execution_count": 32,
   "id": "0e951337",
   "metadata": {},
   "outputs": [],
   "source": [
    "# Corregimos municipios\n",
    "df['Municipio'] = df['Municipio'].replace({\n",
    "    'Xicotepec de Juárez': 'Xicotepec',\n",
    "    'Cadereyta De Montes': 'Cadereyta de Montes',\n",
    "    'Tampacan':'Tampacán',\n",
    "    'Tanquian de Escobedo':'Tanquián de Escobedo',\n",
    "    'Poza Rica':'Poza Rica de Hidalgo',\n",
    "})"
   ]
  },
  {
   "cell_type": "code",
   "execution_count": 33,
   "id": "dcf8234a",
   "metadata": {},
   "outputs": [
    {
     "data": {
      "text/html": [
       "<div>\n",
       "<style scoped>\n",
       "    .dataframe tbody tr th:only-of-type {\n",
       "        vertical-align: middle;\n",
       "    }\n",
       "\n",
       "    .dataframe tbody tr th {\n",
       "        vertical-align: top;\n",
       "    }\n",
       "\n",
       "    .dataframe thead th {\n",
       "        text-align: right;\n",
       "    }\n",
       "</style>\n",
       "<table border=\"1\" class=\"dataframe\">\n",
       "  <thead>\n",
       "    <tr style=\"text-align: right;\">\n",
       "      <th></th>\n",
       "      <th>Estado</th>\n",
       "      <th>Municipio</th>\n",
       "      <th>Localidades afectadas</th>\n",
       "      <th>Localidades sin acceso</th>\n",
       "      <th>cve_cont</th>\n",
       "    </tr>\n",
       "  </thead>\n",
       "  <tbody>\n",
       "    <tr>\n",
       "      <th>0</th>\n",
       "      <td>Hidalgo</td>\n",
       "      <td>Tianguistengo</td>\n",
       "      <td>30.0</td>\n",
       "      <td>14.0</td>\n",
       "      <td>Hidalgo Tianguistengo</td>\n",
       "    </tr>\n",
       "  </tbody>\n",
       "</table>\n",
       "</div>"
      ],
      "text/plain": [
       "    Estado      Municipio Localidades afectadas Localidades sin acceso  \\\n",
       "0  Hidalgo  Tianguistengo                  30.0                   14.0   \n",
       "\n",
       "                cve_cont  \n",
       "0  Hidalgo Tianguistengo  "
      ]
     },
     "execution_count": 33,
     "metadata": {},
     "output_type": "execute_result"
    }
   ],
   "source": [
    "df['cve_cont'] = df['Estado'] + ' ' + df['Municipio']\n",
    "df.head(1)"
   ]
  },
  {
   "cell_type": "code",
   "execution_count": 44,
   "id": "52575dc7",
   "metadata": {},
   "outputs": [
    {
     "name": "stdout",
     "output_type": "stream",
     "text": [
      "(109, 11)\n"
     ]
    },
    {
     "data": {
      "text/html": [
       "<div>\n",
       "<style scoped>\n",
       "    .dataframe tbody tr th:only-of-type {\n",
       "        vertical-align: middle;\n",
       "    }\n",
       "\n",
       "    .dataframe tbody tr th {\n",
       "        vertical-align: top;\n",
       "    }\n",
       "\n",
       "    .dataframe thead th {\n",
       "        text-align: right;\n",
       "    }\n",
       "</style>\n",
       "<table border=\"1\" class=\"dataframe\">\n",
       "  <thead>\n",
       "    <tr style=\"text-align: right;\">\n",
       "      <th></th>\n",
       "      <th>CVEGEO</th>\n",
       "      <th>NOM_ENT</th>\n",
       "      <th>NOMGEO</th>\n",
       "      <th>pobTotal2020</th>\n",
       "      <th>geometry</th>\n",
       "      <th>cve_cont</th>\n",
       "      <th>Estado</th>\n",
       "      <th>Municipio</th>\n",
       "      <th>Localidades afectadas</th>\n",
       "      <th>Localidades sin acceso</th>\n",
       "      <th>_merge</th>\n",
       "    </tr>\n",
       "  </thead>\n",
       "  <tbody>\n",
       "    <tr>\n",
       "      <th>0</th>\n",
       "      <td>13068</td>\n",
       "      <td>Hidalgo</td>\n",
       "      <td>Tianguistengo</td>\n",
       "      <td>14340.0</td>\n",
       "      <td>MULTIPOLYGON (((-98.50451 20.88541, -98.50409 ...</td>\n",
       "      <td>Hidalgo Tianguistengo</td>\n",
       "      <td>Hidalgo</td>\n",
       "      <td>Tianguistengo</td>\n",
       "      <td>30.0</td>\n",
       "      <td>14.0</td>\n",
       "      <td>both</td>\n",
       "    </tr>\n",
       "  </tbody>\n",
       "</table>\n",
       "</div>"
      ],
      "text/plain": [
       "  CVEGEO  NOM_ENT         NOMGEO  pobTotal2020  \\\n",
       "0  13068  Hidalgo  Tianguistengo       14340.0   \n",
       "\n",
       "                                            geometry               cve_cont  \\\n",
       "0  MULTIPOLYGON (((-98.50451 20.88541, -98.50409 ...  Hidalgo Tianguistengo   \n",
       "\n",
       "    Estado      Municipio Localidades afectadas Localidades sin acceso _merge  \n",
       "0  Hidalgo  Tianguistengo                  30.0                   14.0   both  "
      ]
     },
     "execution_count": 44,
     "metadata": {},
     "output_type": "execute_result"
    }
   ],
   "source": [
    "gdf_u = pd.merge(gdf,df, on='cve_cont', how='right', indicator=True)\n",
    "print(gdf_u.shape)\n",
    "gdf_u.head(1)"
   ]
  },
  {
   "cell_type": "code",
   "execution_count": 45,
   "id": "510bc159",
   "metadata": {},
   "outputs": [
    {
     "name": "stdout",
     "output_type": "stream",
     "text": [
      "(0, 11)\n"
     ]
    },
    {
     "data": {
      "text/html": [
       "<div>\n",
       "<style scoped>\n",
       "    .dataframe tbody tr th:only-of-type {\n",
       "        vertical-align: middle;\n",
       "    }\n",
       "\n",
       "    .dataframe tbody tr th {\n",
       "        vertical-align: top;\n",
       "    }\n",
       "\n",
       "    .dataframe thead th {\n",
       "        text-align: right;\n",
       "    }\n",
       "</style>\n",
       "<table border=\"1\" class=\"dataframe\">\n",
       "  <thead>\n",
       "    <tr style=\"text-align: right;\">\n",
       "      <th></th>\n",
       "      <th>CVEGEO</th>\n",
       "      <th>NOM_ENT</th>\n",
       "      <th>NOMGEO</th>\n",
       "      <th>pobTotal2020</th>\n",
       "      <th>geometry</th>\n",
       "      <th>cve_cont</th>\n",
       "      <th>Estado</th>\n",
       "      <th>Municipio</th>\n",
       "      <th>Localidades afectadas</th>\n",
       "      <th>Localidades sin acceso</th>\n",
       "      <th>_merge</th>\n",
       "    </tr>\n",
       "  </thead>\n",
       "  <tbody>\n",
       "  </tbody>\n",
       "</table>\n",
       "</div>"
      ],
      "text/plain": [
       "Empty GeoDataFrame\n",
       "Columns: [CVEGEO, NOM_ENT, NOMGEO, pobTotal2020, geometry, cve_cont, Estado, Municipio, Localidades afectadas, Localidades sin acceso, _merge]\n",
       "Index: []"
      ]
     },
     "execution_count": 45,
     "metadata": {},
     "output_type": "execute_result"
    }
   ],
   "source": [
    "# Filtrar los registros que no se unieron (es decir, que solo están en df)\n",
    "faltantes = gdf_u[gdf_u['_merge'] == 'right_only']\n",
    "print(faltantes.shape)\n",
    "faltantes"
   ]
  },
  {
   "cell_type": "code",
   "execution_count": 40,
   "id": "d4d609e9",
   "metadata": {},
   "outputs": [
    {
     "name": "stdout",
     "output_type": "stream",
     "text": [
      "<class 'geopandas.geodataframe.GeoDataFrame'>\n",
      "Int64Index: 109 entries, 0 to 108\n",
      "Data columns (total 11 columns):\n",
      " #   Column                  Non-Null Count  Dtype   \n",
      "---  ------                  --------------  -----   \n",
      " 0   CVEGEO                  109 non-null    object  \n",
      " 1   NOM_ENT                 109 non-null    object  \n",
      " 2   NOMGEO                  109 non-null    object  \n",
      " 3   pobTotal2020            109 non-null    float64 \n",
      " 4   geometry                109 non-null    geometry\n",
      " 5   cve_cont                109 non-null    object  \n",
      " 6   Estado                  109 non-null    object  \n",
      " 7   Municipio               109 non-null    object  \n",
      " 8   Localidades afectadas   109 non-null    object  \n",
      " 9   Localidades sin acceso  109 non-null    object  \n",
      " 10  _merge                  109 non-null    category\n",
      "dtypes: category(1), float64(1), geometry(1), object(8)\n",
      "memory usage: 9.6+ KB\n"
     ]
    }
   ],
   "source": [
    "gdf_u.info()"
   ]
  },
  {
   "cell_type": "markdown",
   "id": "9e09e094",
   "metadata": {},
   "source": [
    "# simplificar las geometrias"
   ]
  },
  {
   "cell_type": "code",
   "execution_count": 8,
   "id": "75bf1402",
   "metadata": {},
   "outputs": [
    {
     "data": {
      "text/plain": [
       "<Geographic 2D CRS: EPSG:4326>\n",
       "Name: WGS 84\n",
       "Axis Info [ellipsoidal]:\n",
       "- Lat[north]: Geodetic latitude (degree)\n",
       "- Lon[east]: Geodetic longitude (degree)\n",
       "Area of Use:\n",
       "- name: World.\n",
       "- bounds: (-180.0, -90.0, 180.0, 90.0)\n",
       "Datum: World Geodetic System 1984 ensemble\n",
       "- Ellipsoid: WGS 84\n",
       "- Prime Meridian: Greenwich"
      ]
     },
     "execution_count": 8,
     "metadata": {},
     "output_type": "execute_result"
    }
   ],
   "source": [
    "gdf.crs"
   ]
  },
  {
   "cell_type": "code",
   "execution_count": 9,
   "id": "bc70c8d3",
   "metadata": {},
   "outputs": [],
   "source": [
    "gdf.to_crs(epsg=6372, inplace=True)\n",
    "gdf_simplificada = gdf.copy()\n",
    "gdf_simplificada['geometry'] = gdf_simplificada['geometry'].simplify(200, preserve_topology=True)\n",
    "gdf_simplificada.to_crs(epsg=4326, inplace=True)"
   ]
  },
  {
   "cell_type": "code",
   "execution_count": 12,
   "id": "5fda5264",
   "metadata": {},
   "outputs": [
    {
     "data": {
      "text/html": [
       "<div>\n",
       "<style scoped>\n",
       "    .dataframe tbody tr th:only-of-type {\n",
       "        vertical-align: middle;\n",
       "    }\n",
       "\n",
       "    .dataframe tbody tr th {\n",
       "        vertical-align: top;\n",
       "    }\n",
       "\n",
       "    .dataframe thead th {\n",
       "        text-align: right;\n",
       "    }\n",
       "</style>\n",
       "<table border=\"1\" class=\"dataframe\">\n",
       "  <thead>\n",
       "    <tr style=\"text-align: right;\">\n",
       "      <th></th>\n",
       "      <th>CVEGEO</th>\n",
       "      <th>NOM_ENT</th>\n",
       "      <th>NOMGEO</th>\n",
       "      <th>pobTotal2020</th>\n",
       "      <th>cve_cont</th>\n",
       "      <th>Estado</th>\n",
       "      <th>Municipio</th>\n",
       "      <th>Localidades afectadas</th>\n",
       "      <th>Localidades sin acceso</th>\n",
       "      <th>geometry</th>\n",
       "    </tr>\n",
       "  </thead>\n",
       "  <tbody>\n",
       "    <tr>\n",
       "      <th>0</th>\n",
       "      <td>13068</td>\n",
       "      <td>Hidalgo</td>\n",
       "      <td>Tianguistengo</td>\n",
       "      <td>14340.0</td>\n",
       "      <td>Hidalgo Tianguistengo</td>\n",
       "      <td>Hidalgo</td>\n",
       "      <td>Tianguistengo</td>\n",
       "      <td>30</td>\n",
       "      <td>14</td>\n",
       "      <td>POLYGON ((-98.50451 20.88541, -98.49998 20.883...</td>\n",
       "    </tr>\n",
       "    <tr>\n",
       "      <th>1</th>\n",
       "      <td>13053</td>\n",
       "      <td>Hidalgo</td>\n",
       "      <td>San Bartolo Tutotepec</td>\n",
       "      <td>17699.0</td>\n",
       "      <td>Hidalgo San Bartolo Tutotepec</td>\n",
       "      <td>Hidalgo</td>\n",
       "      <td>San Bartolo Tutotepec</td>\n",
       "      <td>12</td>\n",
       "      <td>10</td>\n",
       "      <td>POLYGON ((-98.10904 20.61589, -98.10052 20.614...</td>\n",
       "    </tr>\n",
       "    <tr>\n",
       "      <th>2</th>\n",
       "      <td>13027</td>\n",
       "      <td>Hidalgo</td>\n",
       "      <td>Huehuetla</td>\n",
       "      <td>22846.0</td>\n",
       "      <td>Hidalgo Huehuetla</td>\n",
       "      <td>Hidalgo</td>\n",
       "      <td>Huehuetla</td>\n",
       "      <td>67</td>\n",
       "      <td>6</td>\n",
       "      <td>POLYGON ((-98.06778 20.67381, -98.03998 20.631...</td>\n",
       "    </tr>\n",
       "    <tr>\n",
       "      <th>3</th>\n",
       "      <td>13073</td>\n",
       "      <td>Hidalgo</td>\n",
       "      <td>Tlanchinol</td>\n",
       "      <td>37722.0</td>\n",
       "      <td>Hidalgo Tlanchinol</td>\n",
       "      <td>Hidalgo</td>\n",
       "      <td>Tlanchinol</td>\n",
       "      <td>16</td>\n",
       "      <td>6</td>\n",
       "      <td>POLYGON ((-98.70617 21.18701, -98.70212 21.185...</td>\n",
       "    </tr>\n",
       "    <tr>\n",
       "      <th>4</th>\n",
       "      <td>13025</td>\n",
       "      <td>Hidalgo</td>\n",
       "      <td>Huautla</td>\n",
       "      <td>20673.0</td>\n",
       "      <td>Hidalgo Huautla</td>\n",
       "      <td>Hidalgo</td>\n",
       "      <td>Huautla</td>\n",
       "      <td>15</td>\n",
       "      <td>6</td>\n",
       "      <td>POLYGON ((-98.21558 21.15008, -98.21683 21.144...</td>\n",
       "    </tr>\n",
       "  </tbody>\n",
       "</table>\n",
       "</div>"
      ],
      "text/plain": [
       "  CVEGEO  NOM_ENT                 NOMGEO  pobTotal2020  \\\n",
       "0  13068  Hidalgo          Tianguistengo       14340.0   \n",
       "1  13053  Hidalgo  San Bartolo Tutotepec       17699.0   \n",
       "2  13027  Hidalgo              Huehuetla       22846.0   \n",
       "3  13073  Hidalgo             Tlanchinol       37722.0   \n",
       "4  13025  Hidalgo                Huautla       20673.0   \n",
       "\n",
       "                        cve_cont   Estado              Municipio  \\\n",
       "0          Hidalgo Tianguistengo  Hidalgo          Tianguistengo   \n",
       "1  Hidalgo San Bartolo Tutotepec  Hidalgo  San Bartolo Tutotepec   \n",
       "2              Hidalgo Huehuetla  Hidalgo              Huehuetla   \n",
       "3             Hidalgo Tlanchinol  Hidalgo             Tlanchinol   \n",
       "4                Hidalgo Huautla  Hidalgo                Huautla   \n",
       "\n",
       "  Localidades afectadas Localidades sin acceso  \\\n",
       "0                    30                     14   \n",
       "1                    12                     10   \n",
       "2                    67                      6   \n",
       "3                    16                      6   \n",
       "4                    15                      6   \n",
       "\n",
       "                                            geometry  \n",
       "0  POLYGON ((-98.50451 20.88541, -98.49998 20.883...  \n",
       "1  POLYGON ((-98.10904 20.61589, -98.10052 20.614...  \n",
       "2  POLYGON ((-98.06778 20.67381, -98.03998 20.631...  \n",
       "3  POLYGON ((-98.70617 21.18701, -98.70212 21.185...  \n",
       "4  POLYGON ((-98.21558 21.15008, -98.21683 21.144...  "
      ]
     },
     "execution_count": 12,
     "metadata": {},
     "output_type": "execute_result"
    }
   ],
   "source": [
    "gdf_simplificada.head()"
   ]
  },
  {
   "cell_type": "code",
   "execution_count": 13,
   "id": "67756096",
   "metadata": {},
   "outputs": [],
   "source": [
    "gdf_simplificada = gdf_simplificada.rename(columns={\n",
    "    'Localidades afectadas': 'locAfectada',\n",
    "    'Localidades sin acceso': 'locSinAcceso'\n",
    "})"
   ]
  },
  {
   "cell_type": "code",
   "execution_count": 14,
   "id": "93a793b0",
   "metadata": {},
   "outputs": [
    {
     "data": {
      "text/html": [
       "<div>\n",
       "<style scoped>\n",
       "    .dataframe tbody tr th:only-of-type {\n",
       "        vertical-align: middle;\n",
       "    }\n",
       "\n",
       "    .dataframe tbody tr th {\n",
       "        vertical-align: top;\n",
       "    }\n",
       "\n",
       "    .dataframe thead th {\n",
       "        text-align: right;\n",
       "    }\n",
       "</style>\n",
       "<table border=\"1\" class=\"dataframe\">\n",
       "  <thead>\n",
       "    <tr style=\"text-align: right;\">\n",
       "      <th></th>\n",
       "      <th>CVEGEO</th>\n",
       "      <th>NOM_ENT</th>\n",
       "      <th>NOMGEO</th>\n",
       "      <th>pobTotal2020</th>\n",
       "      <th>cve_cont</th>\n",
       "      <th>Estado</th>\n",
       "      <th>Municipio</th>\n",
       "      <th>locAfectada</th>\n",
       "      <th>locSinAcceso</th>\n",
       "      <th>geometry</th>\n",
       "    </tr>\n",
       "  </thead>\n",
       "  <tbody>\n",
       "    <tr>\n",
       "      <th>0</th>\n",
       "      <td>13068</td>\n",
       "      <td>Hidalgo</td>\n",
       "      <td>Tianguistengo</td>\n",
       "      <td>14340.0</td>\n",
       "      <td>Hidalgo Tianguistengo</td>\n",
       "      <td>Hidalgo</td>\n",
       "      <td>Tianguistengo</td>\n",
       "      <td>30</td>\n",
       "      <td>14</td>\n",
       "      <td>POLYGON ((-98.50451 20.88541, -98.49998 20.883...</td>\n",
       "    </tr>\n",
       "  </tbody>\n",
       "</table>\n",
       "</div>"
      ],
      "text/plain": [
       "  CVEGEO  NOM_ENT         NOMGEO  pobTotal2020               cve_cont  \\\n",
       "0  13068  Hidalgo  Tianguistengo       14340.0  Hidalgo Tianguistengo   \n",
       "\n",
       "    Estado      Municipio locAfectada locSinAcceso  \\\n",
       "0  Hidalgo  Tianguistengo          30           14   \n",
       "\n",
       "                                            geometry  \n",
       "0  POLYGON ((-98.50451 20.88541, -98.49998 20.883...  "
      ]
     },
     "execution_count": 14,
     "metadata": {},
     "output_type": "execute_result"
    }
   ],
   "source": [
    "gdf_simplificada.head(1)"
   ]
  },
  {
   "cell_type": "code",
   "execution_count": 15,
   "id": "1994b3fb",
   "metadata": {},
   "outputs": [
    {
     "name": "stderr",
     "output_type": "stream",
     "text": [
      "c:\\Users\\COMIMSA\\miniconda3\\envs\\gds\\lib\\site-packages\\geopandas\\io\\file.py:299: FutureWarning: pandas.Int64Index is deprecated and will be removed from pandas in a future version. Use pandas.Index with the appropriate dtype instead.\n",
      "  pd.Int64Index,\n"
     ]
    }
   ],
   "source": [
    "#gdf_simplificada.drop(columns=['_merge'], inplace=True)\n",
    "\n",
    "gdf_simplificada.to_file('datos/municipios_2020_INEGI_v2.geojson', driver='GeoJSON')"
   ]
  }
 ],
 "metadata": {
  "kernelspec": {
   "display_name": "gds",
   "language": "python",
   "name": "python3"
  },
  "language_info": {
   "codemirror_mode": {
    "name": "ipython",
    "version": 3
   },
   "file_extension": ".py",
   "mimetype": "text/x-python",
   "name": "python",
   "nbconvert_exporter": "python",
   "pygments_lexer": "ipython3",
   "version": "3.8.12"
  }
 },
 "nbformat": 4,
 "nbformat_minor": 5
}
